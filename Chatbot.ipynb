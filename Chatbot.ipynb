{
 "cells": [
  {
   "cell_type": "markdown",
   "metadata": {},
   "source": [
    "# Chatbot"
   ]
  },
  {
   "cell_type": "markdown",
   "metadata": {},
   "source": [
    "## Librairies"
   ]
  },
  {
   "cell_type": "code",
   "execution_count": 1,
   "metadata": {
    "scrolled": true
   },
   "outputs": [
    {
     "name": "stderr",
     "output_type": "stream",
     "text": [
      "[nltk_data] Downloading package punkt to\n",
      "[nltk_data]     C:\\Users\\grego\\AppData\\Roaming\\nltk_data...\n",
      "[nltk_data]   Package punkt is already up-to-date!\n",
      "[nltk_data] Downloading package wordnet to\n",
      "[nltk_data]     C:\\Users\\grego\\AppData\\Roaming\\nltk_data...\n",
      "[nltk_data]   Package wordnet is already up-to-date!\n"
     ]
    },
    {
     "data": {
      "text/plain": [
       "True"
      ]
     },
     "execution_count": 1,
     "metadata": {},
     "output_type": "execute_result"
    }
   ],
   "source": [
    "import nltk\n",
    "import numpy as np\n",
    "import random\n",
    "import string \n",
    "from sklearn.metrics.pairwise import cosine_similarity\n",
    "from sklearn.feature_extraction.text import TfidfVectorizer\n",
    "from stop_words import get_stop_words\n",
    "import requests\n",
    "import urllib.request\n",
    "import time\n",
    "from bs4 import BeautifulSoup\n",
    "nltk.download('punkt')\n",
    "nltk.download('wordnet') \n",
    "from selenium import webdriver"
   ]
  },
  {
   "cell_type": "markdown",
   "metadata": {},
   "source": [
    "# English Chatbot "
   ]
  },
  {
   "cell_type": "code",
   "execution_count": null,
   "metadata": {},
   "outputs": [],
   "source": [
    "def chatbot_EN():\n",
    "    G_INPUTS = (\"hello\", \"hi\", \"greetings\", \"sup\", \"hey\")  \n",
    "    G_RESPONSES = (\"hi\", \"hey\", \"*nods*\", \"hi there\", \"hello\") \n",
    "\n",
    "    while True:\n",
    "        user_response = input().lower()\n",
    "\n",
    "        if user_response in ('thanks', 'thank you'):\n",
    "            print(\"ROBO: You are welcome..\")\n",
    "            break\n",
    "        \n",
    "        if user_response == 'bye':\n",
    "            print(\"ROBO: Bye! take care..\")\n",
    "            break\n",
    "        \n",
    "        print(\"ROBO : \" + greetings(user_response, G_INPUTS, G_RESPONSES))"
   ]
  },
  {
   "cell_type": "markdown",
   "metadata": {},
   "source": [
    "# Chatbot Français"
   ]
  },
  {
   "cell_type": "markdown",
   "metadata": {},
   "source": [
    "## Nettoyage du texte\n",
    "\n",
    "Le texte doit être nettoyé avant d'être utilisable par le bot, ainsi, il faut faire en sorte qu'il soit bien en minuscule, sans ponctuation, et les phrases doivent être découpées en mots."
   ]
  },
  {
   "cell_type": "code",
   "execution_count": 3,
   "metadata": {},
   "outputs": [],
   "source": [
    "lemmer = nltk.stem.WordNetLemmatizer()\n",
    "#WordNet is a semantically-oriented dictionary of English included in NLTK.\n",
    "def LemTokens(tokens):\n",
    "    return [lemmer.lemmatize(token) for token in tokens]\n",
    "remove_punct_dict = dict((ord(punct), None) for punct in string.punctuation)\n",
    "def LemNormalize(text):\n",
    "    return LemTokens(nltk.word_tokenize(text.lower().translate(remove_punct_dict)))"
   ]
  },
  {
   "cell_type": "markdown",
   "metadata": {},
   "source": [
    "## Phrases de politesse\n",
    "\n",
    "Ces phrases servent au chatbot à répondre aux interrogations classiques."
   ]
  },
  {
   "cell_type": "code",
   "execution_count": 4,
   "metadata": {},
   "outputs": [],
   "source": [
    "G_INPUTS_FR = (\"bonjour\", \"salut\", \"coucou\", \"comment va tu\" )\n",
    "G_RESPONSES_FR = [\"Bonjour !\", \"hey\", \"hello\", \"Je suis heureux que vous me parliez !\"]  \n",
    "\n",
    "G_INPUTS = (\"hello\", \"hi\", \"greetings\", \"sup\", \"hey\")  #what's up en deux mots n'est pas reconnu\n",
    "G_RESPONSES = [\"hi\", \"hey\", \"*nods*\", \"hi there\", \"hello\"]\n",
    "\n",
    "def greetings(sentence, g_inputs, g_responses):\n",
    "    for word in g_inputs:\n",
    "        if sentence.find(word.lower()) >= 0:\n",
    "            return choice(g_responses)\n",
    "    return \"i don't understand your sentence\""
   ]
  },
  {
   "cell_type": "markdown",
   "metadata": {},
   "source": [
    "## Réponse du chatbot\n",
    "\n",
    "Pour que le chatbot comprenne et puisse répondre à une question, il faut :\n",
    "\n",
    "- Que le texte soit nettoyé\n",
    "- Trouver un algorithme permettant de trouver une réponse\n",
    "\n",
    "Pour se faire, nous calculerons un coefficient de similarité, entre les termes présents dans la question de l'utilisateur et le corpus ayant servi de \"nourriture\" pour le chatbot"
   ]
  },
  {
   "cell_type": "code",
   "execution_count": 5,
   "metadata": {},
   "outputs": [],
   "source": [
    "def chatbot_FR():\n",
    "    stop_words_fr = get_stop_words('french')\n",
    "\n",
    "    G_INPUTS_FR = (\"bonjour\", \"salut\", \"coucou\", \"comment va tu\" )\n",
    "    G_RESPONSES_FR = [\"Bonjour !\", \"hey\", \"hello\", \"Je suis heureux que vous me parliez !\"]  \n",
    "    flag=True\n",
    "    print(\"ROBO: Je suis Robo. Je répondrai à toutes vos questions concernant les chatbots. Si vous voulez quitter, tapez au revoir!\")\n",
    "    while(flag==True):\n",
    "        user_response = input()\n",
    "        user_response=user_response.lower()\n",
    "        if(user_response!='au revoir'):\n",
    "            if(user_response=='merci'):\n",
    "                flag=False\n",
    "                print(\"ROBO: Je vous en prie..\")\n",
    "            else:\n",
    "                if(greeting(user_response, G_INPUTS_FR, G_RESPONSES_FR)!=None):\n",
    "                    print(\"ROBO: \"+greeting(user_response, G_INPUTS_FR, G_RESPONSES_FR))\n",
    "                else:\n",
    "                    print(user_response)\n",
    "                    print(\"ROBO: \",end=\"\")\n",
    "                    print(response(user_response, stop_words_fr, 1))\n",
    "                    #sent_tokens.remove(user_response)\n",
    "        else:\n",
    "            flag=False\n",
    "            print(\"ROBO: Au revoir !..\")"
   ]
  },
  {
   "cell_type": "code",
   "execution_count": 6,
   "metadata": {},
   "outputs": [],
   "source": [
    "def response(user_response, stopwords = 'english', langue=0):\n",
    "    if langue == 0 :\n",
    "        f=open('text.txt','r',errors = 'ignore')\n",
    "    else:\n",
    "        f=open('text_fr.txt','r',errors = 'ignore', encoding= 'utf-8')\n",
    "    raw=f.read()\n",
    "    raw=raw.lower()# converts to lowercase\n",
    "    sent_tokens = nltk.sent_tokenize(raw)\n",
    "    word_tokens = nltk.word_tokenize(raw)\n",
    "    if langue == 0 :\n",
    "        excuses = \"I am sorry! I don't understand you\"\n",
    "    else :\n",
    "        excuses = \"Excusez-moi, je ne vous ai pas compris\"\n",
    "    robo_response=''\n",
    "    sent_tokens.append(user_response)\n",
    "    \n",
    "    TfidfVec = TfidfVectorizer(tokenizer=LemNormalize, stop_words= stopwords)\n",
    "    \n",
    "    tfidf = TfidfVec.fit_transform(sent_tokens)\n",
    "    vals = cosine_similarity(tfidf[-1], tfidf)\n",
    "    idx=vals.argsort()[0][-2]\n",
    "    flat = vals.flatten()\n",
    "    flat.sort()\n",
    "    req_tfidf = flat[-2]\n",
    "    if(req_tfidf==0):\n",
    "        robo_response=robo_response+excuses\n",
    "        return robo_response\n",
    "    else:\n",
    "        robo_response = robo_response+sent_tokens[idx]\n",
    "        return robo_response\n",
    "    "
   ]
  },
  {
   "cell_type": "code",
   "execution_count": 7,
   "metadata": {},
   "outputs": [],
   "source": []
  },
  {
   "cell_type": "code",
   "execution_count": null,
   "metadata": {},
   "outputs": [],
   "source": [
    "def chatbot():\n",
    "    selection = {\n",
    "        'fr': chatbot_FR,\n",
    "        'en': chatbot_EN\n",
    "    }\n",
    "\n",
    "    while True:\n",
    "        print(\"Français : fr /English : en, quitter/quit : q\")\n",
    "        choix = input().lower()\n",
    "\n",
    "        if choix == \"q\":\n",
    "            print(\"Au revoir!/Goodbye!\")\n",
    "            break\n",
    "\n",
    "        if choix in selection.keys():\n",
    "            selection[choix]()\n",
    "            break\n",
    "        \n",
    "        print(\"Langue non reconnue / Not understanding your choice, langues/languages : fr / en , quitter/quit : q\")"
   ]
  },
  {
   "cell_type": "code",
   "execution_count": 9,
   "metadata": {},
   "outputs": [
    {
     "name": "stdout",
     "output_type": "stream",
     "text": [
      "Français : fr /English : en, quitter/quit : q\n",
      "en\n",
      "ROBO: My name is Robo. I will answer your queries about Chatbots. If you want to exit, type Bye!\n",
      "what's a chatbot ?\n",
      "ROBO: "
     ]
    },
    {
     "name": "stderr",
     "output_type": "stream",
     "text": [
      "C:\\Users\\grego\\anaconda3\\lib\\site-packages\\sklearn\\feature_extraction\\text.py:386: UserWarning: Your stop_words may be inconsistent with your preprocessing. Tokenizing the stop words generated tokens ['ha', 'le', 'u', 'wa'] not in stop_words.\n",
      "  'stop_words.' % sorted(inconsistent))\n"
     ]
    },
    {
     "name": "stdout",
     "output_type": "stream",
     "text": [
      "design\n",
      "the chatbot design is the process that defines the interaction between the user and the chatbot.the chatbot designer will define the chatbot personality, the questions that will be asked to the users, and the overall interaction.it can be viewed as a subset of the conversational design.\n",
      "qu'est ce qu'un chatbot ?\n",
      "ROBO: "
     ]
    },
    {
     "name": "stderr",
     "output_type": "stream",
     "text": [
      "C:\\Users\\grego\\anaconda3\\lib\\site-packages\\sklearn\\feature_extraction\\text.py:386: UserWarning: Your stop_words may be inconsistent with your preprocessing. Tokenizing the stop words generated tokens ['ha', 'le', 'u', 'wa'] not in stop_words.\n",
      "  'stop_words.' % sorted(inconsistent))\n"
     ]
    },
    {
     "name": "stdout",
     "output_type": "stream",
     "text": [
      "design\n",
      "the chatbot design is the process that defines the interaction between the user and the chatbot.the chatbot designer will define the chatbot personality, the questions that will be asked to the users, and the overall interaction.it can be viewed as a subset of the conversational design.\n",
      "What's ELIZA ?\n"
     ]
    },
    {
     "name": "stderr",
     "output_type": "stream",
     "text": [
      "C:\\Users\\grego\\anaconda3\\lib\\site-packages\\sklearn\\feature_extraction\\text.py:386: UserWarning: Your stop_words may be inconsistent with your preprocessing. Tokenizing the stop words generated tokens ['ha', 'le', 'u', 'wa'] not in stop_words.\n",
      "  'stop_words.' % sorted(inconsistent))\n"
     ]
    },
    {
     "name": "stdout",
     "output_type": "stream",
     "text": [
      "ROBO: while eliza and parry were used exclusively to simulate typed conversation, many chatbots now include functional features such as games and web searching abilities.\n",
      "thanks\n",
      "ROBO: You are welcome..\n"
     ]
    }
   ],
   "source": [
    "chatbot()"
   ]
  },
  {
   "cell_type": "markdown",
   "metadata": {},
   "source": [
    "# Web-Scrapping (En cours)"
   ]
  },
  {
   "cell_type": "code",
   "execution_count": 11,
   "metadata": {},
   "outputs": [],
   "source": [
    "# Import libraries\n",
    "# Set the URL you want to webscrape from\n",
    "url = 'https://fr.wikipedia.org/wiki/Chatbot'\n",
    "\n",
    "# Connect to the URL\n",
    "response = requests.get(url)\n",
    "\n",
    "# Parse HTML and save to BeautifulSoup object\n",
    "soup = BeautifulSoup(response.text, \"html.parser\")\n",
    "\n",
    "\n"
   ]
  },
  {
   "cell_type": "code",
   "execution_count": 19,
   "metadata": {},
   "outputs": [],
   "source": [
    "driver = webdriver.Chrome(r'C:\\Users\\grego\\OneDrive\\Documents\\Untitled Folder\\chromedriver.exe')\n"
   ]
  },
  {
   "cell_type": "code",
   "execution_count": 20,
   "metadata": {},
   "outputs": [],
   "source": [
    "driver.get('https://fr.wikipedia.org/wiki/Chatbot')"
   ]
  },
  {
   "cell_type": "code",
   "execution_count": 12,
   "metadata": {},
   "outputs": [],
   "source": [
    "url = 'https://fr.wikipedia.org/wiki/Chatbot'"
   ]
  },
  {
   "cell_type": "code",
   "execution_count": 13,
   "metadata": {},
   "outputs": [],
   "source": [
    "response = requests.get(url)"
   ]
  },
  {
   "cell_type": "code",
   "execution_count": 14,
   "metadata": {},
   "outputs": [
    {
     "data": {
      "text/plain": [
       "<Response [200]>"
      ]
     },
     "execution_count": 14,
     "metadata": {},
     "output_type": "execute_result"
    }
   ],
   "source": [
    "response"
   ]
  },
  {
   "cell_type": "code",
   "execution_count": 16,
   "metadata": {},
   "outputs": [],
   "source": []
  },
  {
   "cell_type": "code",
   "execution_count": null,
   "metadata": {},
   "outputs": [],
   "source": []
  },
  {
   "cell_type": "code",
   "execution_count": null,
   "metadata": {},
   "outputs": [],
   "source": []
  },
  {
   "cell_type": "code",
   "execution_count": null,
   "metadata": {},
   "outputs": [],
   "source": []
  },
  {
   "cell_type": "code",
   "execution_count": null,
   "metadata": {},
   "outputs": [],
   "source": []
  },
  {
   "cell_type": "code",
   "execution_count": 19,
   "metadata": {},
   "outputs": [],
   "source": [
    "def chatbot_EN():\n",
    "    G_INPUTS = (\"hello\", \"hi\", \"greetings\", \"sup\", \"hey\")  # what's up en deux mots n'est pas reconnu\n",
    "    G_RESPONSES = (\"hi\", \"hey\", \"*nods*\", \"hi there\", \"hello\") \n",
    "\n",
    "    while True:\n",
    "        user_response = input().lower()\n",
    "\n",
    "        if user_response in ('thanks', 'thank you'):\n",
    "            print(\"ROBO: You are welcome..\")\n",
    "            break\n",
    "        \n",
    "        if user_response == 'bye':\n",
    "            print(\"ROBO: Bye! take care..\")\n",
    "            break\n",
    "        \n",
    "        print(\"ROBO : \" + greetings(user_response, G_INPUTS, G_RESPONSES))\n",
    "\n",
    "def greetings(sentence, g_inputs, g_responses):\n",
    "    for word in g_inputs:\n",
    "        if sentence.find(word.lower()) >= 0:\n",
    "            return choice(g_responses)\n",
    "    return \"i don't understand your sentence\"\n",
    "\n",
    "def chatbot():\n",
    "    selection = {\n",
    "        'fr': chatbot_FR,\n",
    "        'en': chatbot_EN\n",
    "    }\n",
    "\n",
    "    while True:\n",
    "        print(\"Français : fr /English : en, quitter/quit : q\")\n",
    "        choix = input().lower()\n",
    "\n",
    "        if choix == \"q\":\n",
    "            print(\"Au revoir!/Goodbye!\")\n",
    "            break\n",
    "\n",
    "        if choix in selection.keys():\n",
    "            selection[choix]()\n",
    "            break\n",
    "        \n",
    "        print(\"Langue non reconnue / Not understanding your choice, langues/languages : fr / en , quitter/quit : q\")"
   ]
  },
  {
   "cell_type": "code",
   "execution_count": null,
   "metadata": {},
   "outputs": [],
   "source": []
  },
  {
   "cell_type": "code",
   "execution_count": null,
   "metadata": {},
   "outputs": [],
   "source": []
  }
 ],
 "metadata": {
  "kernelspec": {
   "display_name": "Python 3",
   "language": "python",
   "name": "python3"
  },
  "language_info": {
   "codemirror_mode": {
    "name": "ipython",
    "version": 3
   },
   "file_extension": ".py",
   "mimetype": "text/x-python",
   "name": "python",
   "nbconvert_exporter": "python",
   "pygments_lexer": "ipython3",
   "version": "3.7.6"
  }
 },
 "nbformat": 4,
 "nbformat_minor": 4
}
